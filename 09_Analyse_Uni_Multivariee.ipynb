{
 "cells": [
  {
   "cell_type": "code",
   "execution_count": 63,
   "metadata": {},
   "outputs": [],
   "source": [
    "import pandas as pd\n",
    "import matplotlib.pyplot as plt\n",
    "import seaborn as sns\n",
    "\n",
    "df = sns.load_dataset(\"tips\")"
   ]
  },
  {
   "cell_type": "code",
   "execution_count": null,
   "metadata": {},
   "outputs": [],
   "source": [
    "df.to_excel(\"D:/Ananlyse_statistiques/tips.xlsx\", index=False)"
   ]
  },
  {
   "cell_type": "code",
   "execution_count": 66,
   "metadata": {},
   "outputs": [
    {
     "data": {
      "application/vnd.microsoft.datawrangler.viewer.v0+json": {
       "columns": [
        {
         "name": "index",
         "rawType": "int64",
         "type": "integer"
        },
        {
         "name": "total_bill",
         "rawType": "float64",
         "type": "float"
        },
        {
         "name": "tip",
         "rawType": "float64",
         "type": "float"
        },
        {
         "name": "sex",
         "rawType": "category",
         "type": "unknown"
        },
        {
         "name": "smoker",
         "rawType": "category",
         "type": "unknown"
        },
        {
         "name": "day",
         "rawType": "category",
         "type": "unknown"
        },
        {
         "name": "time",
         "rawType": "category",
         "type": "unknown"
        },
        {
         "name": "size",
         "rawType": "int64",
         "type": "integer"
        }
       ],
       "ref": "a68d9d4d-0ca0-44ad-be82-6f7e6cd62288",
       "rows": [
        [
         "223",
         "15.98",
         "3.0",
         "Female",
         "No",
         "Fri",
         "Lunch",
         "3"
        ],
        [
         "94",
         "22.75",
         "3.25",
         "Female",
         "No",
         "Fri",
         "Dinner",
         "2"
        ],
        [
         "201",
         "12.74",
         "2.01",
         "Female",
         "Yes",
         "Thur",
         "Lunch",
         "2"
        ],
        [
         "71",
         "17.07",
         "3.0",
         "Female",
         "No",
         "Sat",
         "Dinner",
         "3"
        ],
        [
         "133",
         "12.26",
         "2.0",
         "Female",
         "No",
         "Thur",
         "Lunch",
         "2"
        ],
        [
         "128",
         "11.38",
         "2.0",
         "Female",
         "No",
         "Thur",
         "Lunch",
         "2"
        ],
        [
         "141",
         "34.3",
         "6.7",
         "Male",
         "No",
         "Thur",
         "Lunch",
         "6"
        ],
        [
         "56",
         "38.01",
         "3.0",
         "Male",
         "Yes",
         "Sat",
         "Dinner",
         "4"
        ],
        [
         "215",
         "12.9",
         "1.1",
         "Female",
         "Yes",
         "Sat",
         "Dinner",
         "2"
        ],
        [
         "197",
         "43.11",
         "5.0",
         "Female",
         "Yes",
         "Thur",
         "Lunch",
         "4"
        ],
        [
         "143",
         "27.05",
         "5.0",
         "Female",
         "No",
         "Thur",
         "Lunch",
         "6"
        ],
        [
         "88",
         "24.71",
         "5.85",
         "Male",
         "No",
         "Thur",
         "Lunch",
         "2"
        ],
        [
         "179",
         "34.63",
         "3.55",
         "Male",
         "Yes",
         "Sun",
         "Dinner",
         "2"
        ],
        [
         "228",
         "13.28",
         "2.72",
         "Male",
         "No",
         "Sat",
         "Dinner",
         "2"
        ],
        [
         "169",
         "10.63",
         "2.0",
         "Female",
         "Yes",
         "Sat",
         "Dinner",
         "2"
        ],
        [
         "238",
         "35.83",
         "4.67",
         "Female",
         "No",
         "Sat",
         "Dinner",
         "3"
        ],
        [
         "203",
         "16.4",
         "2.5",
         "Female",
         "Yes",
         "Thur",
         "Lunch",
         "2"
        ],
        [
         "183",
         "23.17",
         "6.5",
         "Male",
         "Yes",
         "Sun",
         "Dinner",
         "4"
        ],
        [
         "211",
         "25.89",
         "5.16",
         "Male",
         "Yes",
         "Sat",
         "Dinner",
         "4"
        ],
        [
         "17",
         "16.29",
         "3.71",
         "Male",
         "No",
         "Sun",
         "Dinner",
         "3"
        ]
       ],
       "shape": {
        "columns": 7,
        "rows": 20
       }
      },
      "text/html": [
       "<div>\n",
       "<style scoped>\n",
       "    .dataframe tbody tr th:only-of-type {\n",
       "        vertical-align: middle;\n",
       "    }\n",
       "\n",
       "    .dataframe tbody tr th {\n",
       "        vertical-align: top;\n",
       "    }\n",
       "\n",
       "    .dataframe thead th {\n",
       "        text-align: right;\n",
       "    }\n",
       "</style>\n",
       "<table border=\"1\" class=\"dataframe\">\n",
       "  <thead>\n",
       "    <tr style=\"text-align: right;\">\n",
       "      <th></th>\n",
       "      <th>total_bill</th>\n",
       "      <th>tip</th>\n",
       "      <th>sex</th>\n",
       "      <th>smoker</th>\n",
       "      <th>day</th>\n",
       "      <th>time</th>\n",
       "      <th>size</th>\n",
       "    </tr>\n",
       "  </thead>\n",
       "  <tbody>\n",
       "    <tr>\n",
       "      <th>223</th>\n",
       "      <td>15.98</td>\n",
       "      <td>3.00</td>\n",
       "      <td>Female</td>\n",
       "      <td>No</td>\n",
       "      <td>Fri</td>\n",
       "      <td>Lunch</td>\n",
       "      <td>3</td>\n",
       "    </tr>\n",
       "    <tr>\n",
       "      <th>94</th>\n",
       "      <td>22.75</td>\n",
       "      <td>3.25</td>\n",
       "      <td>Female</td>\n",
       "      <td>No</td>\n",
       "      <td>Fri</td>\n",
       "      <td>Dinner</td>\n",
       "      <td>2</td>\n",
       "    </tr>\n",
       "    <tr>\n",
       "      <th>201</th>\n",
       "      <td>12.74</td>\n",
       "      <td>2.01</td>\n",
       "      <td>Female</td>\n",
       "      <td>Yes</td>\n",
       "      <td>Thur</td>\n",
       "      <td>Lunch</td>\n",
       "      <td>2</td>\n",
       "    </tr>\n",
       "    <tr>\n",
       "      <th>71</th>\n",
       "      <td>17.07</td>\n",
       "      <td>3.00</td>\n",
       "      <td>Female</td>\n",
       "      <td>No</td>\n",
       "      <td>Sat</td>\n",
       "      <td>Dinner</td>\n",
       "      <td>3</td>\n",
       "    </tr>\n",
       "    <tr>\n",
       "      <th>133</th>\n",
       "      <td>12.26</td>\n",
       "      <td>2.00</td>\n",
       "      <td>Female</td>\n",
       "      <td>No</td>\n",
       "      <td>Thur</td>\n",
       "      <td>Lunch</td>\n",
       "      <td>2</td>\n",
       "    </tr>\n",
       "    <tr>\n",
       "      <th>128</th>\n",
       "      <td>11.38</td>\n",
       "      <td>2.00</td>\n",
       "      <td>Female</td>\n",
       "      <td>No</td>\n",
       "      <td>Thur</td>\n",
       "      <td>Lunch</td>\n",
       "      <td>2</td>\n",
       "    </tr>\n",
       "    <tr>\n",
       "      <th>141</th>\n",
       "      <td>34.30</td>\n",
       "      <td>6.70</td>\n",
       "      <td>Male</td>\n",
       "      <td>No</td>\n",
       "      <td>Thur</td>\n",
       "      <td>Lunch</td>\n",
       "      <td>6</td>\n",
       "    </tr>\n",
       "    <tr>\n",
       "      <th>56</th>\n",
       "      <td>38.01</td>\n",
       "      <td>3.00</td>\n",
       "      <td>Male</td>\n",
       "      <td>Yes</td>\n",
       "      <td>Sat</td>\n",
       "      <td>Dinner</td>\n",
       "      <td>4</td>\n",
       "    </tr>\n",
       "    <tr>\n",
       "      <th>215</th>\n",
       "      <td>12.90</td>\n",
       "      <td>1.10</td>\n",
       "      <td>Female</td>\n",
       "      <td>Yes</td>\n",
       "      <td>Sat</td>\n",
       "      <td>Dinner</td>\n",
       "      <td>2</td>\n",
       "    </tr>\n",
       "    <tr>\n",
       "      <th>197</th>\n",
       "      <td>43.11</td>\n",
       "      <td>5.00</td>\n",
       "      <td>Female</td>\n",
       "      <td>Yes</td>\n",
       "      <td>Thur</td>\n",
       "      <td>Lunch</td>\n",
       "      <td>4</td>\n",
       "    </tr>\n",
       "    <tr>\n",
       "      <th>143</th>\n",
       "      <td>27.05</td>\n",
       "      <td>5.00</td>\n",
       "      <td>Female</td>\n",
       "      <td>No</td>\n",
       "      <td>Thur</td>\n",
       "      <td>Lunch</td>\n",
       "      <td>6</td>\n",
       "    </tr>\n",
       "    <tr>\n",
       "      <th>88</th>\n",
       "      <td>24.71</td>\n",
       "      <td>5.85</td>\n",
       "      <td>Male</td>\n",
       "      <td>No</td>\n",
       "      <td>Thur</td>\n",
       "      <td>Lunch</td>\n",
       "      <td>2</td>\n",
       "    </tr>\n",
       "    <tr>\n",
       "      <th>179</th>\n",
       "      <td>34.63</td>\n",
       "      <td>3.55</td>\n",
       "      <td>Male</td>\n",
       "      <td>Yes</td>\n",
       "      <td>Sun</td>\n",
       "      <td>Dinner</td>\n",
       "      <td>2</td>\n",
       "    </tr>\n",
       "    <tr>\n",
       "      <th>228</th>\n",
       "      <td>13.28</td>\n",
       "      <td>2.72</td>\n",
       "      <td>Male</td>\n",
       "      <td>No</td>\n",
       "      <td>Sat</td>\n",
       "      <td>Dinner</td>\n",
       "      <td>2</td>\n",
       "    </tr>\n",
       "    <tr>\n",
       "      <th>169</th>\n",
       "      <td>10.63</td>\n",
       "      <td>2.00</td>\n",
       "      <td>Female</td>\n",
       "      <td>Yes</td>\n",
       "      <td>Sat</td>\n",
       "      <td>Dinner</td>\n",
       "      <td>2</td>\n",
       "    </tr>\n",
       "    <tr>\n",
       "      <th>238</th>\n",
       "      <td>35.83</td>\n",
       "      <td>4.67</td>\n",
       "      <td>Female</td>\n",
       "      <td>No</td>\n",
       "      <td>Sat</td>\n",
       "      <td>Dinner</td>\n",
       "      <td>3</td>\n",
       "    </tr>\n",
       "    <tr>\n",
       "      <th>203</th>\n",
       "      <td>16.40</td>\n",
       "      <td>2.50</td>\n",
       "      <td>Female</td>\n",
       "      <td>Yes</td>\n",
       "      <td>Thur</td>\n",
       "      <td>Lunch</td>\n",
       "      <td>2</td>\n",
       "    </tr>\n",
       "    <tr>\n",
       "      <th>183</th>\n",
       "      <td>23.17</td>\n",
       "      <td>6.50</td>\n",
       "      <td>Male</td>\n",
       "      <td>Yes</td>\n",
       "      <td>Sun</td>\n",
       "      <td>Dinner</td>\n",
       "      <td>4</td>\n",
       "    </tr>\n",
       "    <tr>\n",
       "      <th>211</th>\n",
       "      <td>25.89</td>\n",
       "      <td>5.16</td>\n",
       "      <td>Male</td>\n",
       "      <td>Yes</td>\n",
       "      <td>Sat</td>\n",
       "      <td>Dinner</td>\n",
       "      <td>4</td>\n",
       "    </tr>\n",
       "    <tr>\n",
       "      <th>17</th>\n",
       "      <td>16.29</td>\n",
       "      <td>3.71</td>\n",
       "      <td>Male</td>\n",
       "      <td>No</td>\n",
       "      <td>Sun</td>\n",
       "      <td>Dinner</td>\n",
       "      <td>3</td>\n",
       "    </tr>\n",
       "  </tbody>\n",
       "</table>\n",
       "</div>"
      ],
      "text/plain": [
       "     total_bill   tip     sex smoker   day    time  size\n",
       "223       15.98  3.00  Female     No   Fri   Lunch     3\n",
       "94        22.75  3.25  Female     No   Fri  Dinner     2\n",
       "201       12.74  2.01  Female    Yes  Thur   Lunch     2\n",
       "71        17.07  3.00  Female     No   Sat  Dinner     3\n",
       "133       12.26  2.00  Female     No  Thur   Lunch     2\n",
       "128       11.38  2.00  Female     No  Thur   Lunch     2\n",
       "141       34.30  6.70    Male     No  Thur   Lunch     6\n",
       "56        38.01  3.00    Male    Yes   Sat  Dinner     4\n",
       "215       12.90  1.10  Female    Yes   Sat  Dinner     2\n",
       "197       43.11  5.00  Female    Yes  Thur   Lunch     4\n",
       "143       27.05  5.00  Female     No  Thur   Lunch     6\n",
       "88        24.71  5.85    Male     No  Thur   Lunch     2\n",
       "179       34.63  3.55    Male    Yes   Sun  Dinner     2\n",
       "228       13.28  2.72    Male     No   Sat  Dinner     2\n",
       "169       10.63  2.00  Female    Yes   Sat  Dinner     2\n",
       "238       35.83  4.67  Female     No   Sat  Dinner     3\n",
       "203       16.40  2.50  Female    Yes  Thur   Lunch     2\n",
       "183       23.17  6.50    Male    Yes   Sun  Dinner     4\n",
       "211       25.89  5.16    Male    Yes   Sat  Dinner     4\n",
       "17        16.29  3.71    Male     No   Sun  Dinner     3"
      ]
     },
     "execution_count": 66,
     "metadata": {},
     "output_type": "execute_result"
    }
   ],
   "source": [
    "df.sample(20)"
   ]
  },
  {
   "cell_type": "markdown",
   "metadata": {},
   "source": [
    "# Variable discrète"
   ]
  },
  {
   "cell_type": "code",
   "execution_count": 70,
   "metadata": {},
   "outputs": [
    {
     "data": {
      "application/vnd.microsoft.datawrangler.viewer.v0+json": {
       "columns": [
        {
         "name": "sex",
         "rawType": "category",
         "type": "unknown"
        },
        {
         "name": "proportion",
         "rawType": "float64",
         "type": "float"
        }
       ],
       "ref": "f3024d67-3f41-4d13-bfc0-0e70cb7258cd",
       "rows": [
        [
         "Male",
         "0.6434426229508197"
        ],
        [
         "Female",
         "0.35655737704918034"
        ]
       ],
       "shape": {
        "columns": 1,
        "rows": 2
       }
      },
      "text/plain": [
       "sex\n",
       "Male      0.643443\n",
       "Female    0.356557\n",
       "Name: proportion, dtype: float64"
      ]
     },
     "execution_count": 70,
     "metadata": {},
     "output_type": "execute_result"
    }
   ],
   "source": [
    "df[\"sex\"].value_counts(normalize=True, sort= True, ascending=False)"
   ]
  },
  {
   "cell_type": "code",
   "execution_count": 72,
   "metadata": {},
   "outputs": [
    {
     "data": {
      "text/plain": [
       "<Axes: xlabel='sex'>"
      ]
     },
     "execution_count": 72,
     "metadata": {},
     "output_type": "execute_result"
    },
    {
     "data": {
      "image/png": "[encoded data removed]",
      "text/plain": [
       "<Figure size 640x480 with 1 Axes>"
      ]
     },
     "metadata": {},
     "output_type": "display_data"
    }
   ],
   "source": [
    "df[\"sex\"].value_counts(normalize=True).plot(kind=\"bar\")"
   ]
  },
  {
   "cell_type": "code",
   "execution_count": 73,
   "metadata": {},
   "outputs": [
    {
     "data": {
      "text/plain": [
       "<Axes: xlabel='sex', ylabel='count'>"
      ]
     },
     "execution_count": 73,
     "metadata": {},
     "output_type": "execute_result"
    },
    {
     "data": {
      "image/png": "[encoded data removed]",
      "text/plain": [
       "<Figure size 640x480 with 1 Axes>"
      ]
     },
     "metadata": {},
     "output_type": "display_data"
    }
   ],
   "source": [
    "sns.countplot(data=df, x=\"sex\")"
   ]
  },
  {
   "cell_type": "markdown",
   "metadata": {},
   "source": [
    "# Variable Continue"
   ]
  },
  {
   "cell_type": "code",
   "execution_count": 74,
   "metadata": {},
   "outputs": [
    {
     "data": {
      "text/plain": [
       "2.99827868852459"
      ]
     },
     "execution_count": 74,
     "metadata": {},
     "output_type": "execute_result"
    }
   ],
   "source": [
    "df[\"tip\"].mean()"
   ]
  },
  {
   "cell_type": "code",
   "execution_count": 75,
   "metadata": {},
   "outputs": [
    {
     "data": {
      "text/plain": [
       "1.0"
      ]
     },
     "execution_count": 75,
     "metadata": {},
     "output_type": "execute_result"
    }
   ],
   "source": [
    "df[\"tip\"].min()"
   ]
  },
  {
   "cell_type": "code",
   "execution_count": 76,
   "metadata": {},
   "outputs": [
    {
     "data": {
      "text/plain": [
       "10.0"
      ]
     },
     "execution_count": 76,
     "metadata": {},
     "output_type": "execute_result"
    }
   ],
   "source": [
    "df[\"tip\"].max()"
   ]
  },
  {
   "cell_type": "code",
   "execution_count": 77,
   "metadata": {},
   "outputs": [
    {
     "data": {
      "text/plain": [
       "2.9"
      ]
     },
     "execution_count": 77,
     "metadata": {},
     "output_type": "execute_result"
    }
   ],
   "source": [
    "df[\"tip\"].median()"
   ]
  },
  {
   "cell_type": "code",
   "execution_count": 87,
   "metadata": {},
   "outputs": [
    {
     "data": {
      "text/plain": [
       "2.9"
      ]
     },
     "execution_count": 87,
     "metadata": {},
     "output_type": "execute_result"
    }
   ],
   "source": [
    "df[\"tip\"].quantile(0.50)"
   ]
  },
  {
   "cell_type": "code",
   "execution_count": 85,
   "metadata": {},
   "outputs": [
    {
     "data": {
      "text/plain": [
       "1.914454638062471"
      ]
     },
     "execution_count": 85,
     "metadata": {},
     "output_type": "execute_result"
    }
   ],
   "source": [
    "df[\"tip\"].var()"
   ]
  },
  {
   "cell_type": "code",
   "execution_count": 86,
   "metadata": {},
   "outputs": [
    {
     "data": {
      "text/plain": [
       "1.3836381890011822"
      ]
     },
     "execution_count": 86,
     "metadata": {},
     "output_type": "execute_result"
    }
   ],
   "source": [
    "df[\"tip\"].std()"
   ]
  },
  {
   "cell_type": "code",
   "execution_count": 88,
   "metadata": {},
   "outputs": [
    {
     "data": {
      "application/vnd.microsoft.datawrangler.viewer.v0+json": {
       "columns": [
        {
         "name": "index",
         "rawType": "object",
         "type": "string"
        },
        {
         "name": "tip",
         "rawType": "float64",
         "type": "float"
        }
       ],
       "ref": "0994b406-980b-47ca-9565-cb813e0d9d9b",
       "rows": [
        [
         "count",
         "244.0"
        ],
        [
         "mean",
         "2.99827868852459"
        ],
        [
         "std",
         "1.3836381890011822"
        ],
        [
         "min",
         "1.0"
        ],
        [
         "25%",
         "2.0"
        ],
        [
         "50%",
         "2.9"
        ],
        [
         "75%",
         "3.5625"
        ],
        [
         "max",
         "10.0"
        ]
       ],
       "shape": {
        "columns": 1,
        "rows": 8
       }
      },
      "text/plain": [
       "count    244.000000\n",
       "mean       2.998279\n",
       "std        1.383638\n",
       "min        1.000000\n",
       "25%        2.000000\n",
       "50%        2.900000\n",
       "75%        3.562500\n",
       "max       10.000000\n",
       "Name: tip, dtype: float64"
      ]
     },
     "execution_count": 88,
     "metadata": {},
     "output_type": "execute_result"
    }
   ],
   "source": [
    "df[\"tip\"].describe()"
   ]
  },
  {
   "cell_type": "markdown",
   "metadata": {},
   "source": [
    "# Histogramme"
   ]
  },
  {
   "cell_type": "code",
   "execution_count": 89,
   "metadata": {},
   "outputs": [
    {
     "data": {
      "text/plain": [
       "<Axes: ylabel='Frequency'>"
      ]
     },
     "execution_count": 89,
     "metadata": {},
     "output_type": "execute_result"
    },
    {
     "data": {
      "image/png": "[encoded data removed]",
      "text/plain": [
       "<Figure size 640x480 with 1 Axes>"
      ]
     },
     "metadata": {},
     "output_type": "display_data"
    }
   ],
   "source": [
    "df[\"tip\"].plot(kind=\"hist\", bins=20)"
   ]
  },
  {
   "cell_type": "code",
   "execution_count": 90,
   "metadata": {},
   "outputs": [
    {
     "data": {
      "text/plain": [
       "<seaborn.axisgrid.FacetGrid at 0x109bdd704f0>"
      ]
     },
     "execution_count": 90,
     "metadata": {},
     "output_type": "execute_result"
    },
    {
     "data": {
      "image/png": "[encoded data removed]",
      "text/plain": [
       "<Figure size 500x500 with 1 Axes>"
      ]
     },
     "metadata": {},
     "output_type": "display_data"
    }
   ],
   "source": [
    "sns.displot(data=df, x=\"tip\", bins=10)"
   ]
  },
  {
   "cell_type": "markdown",
   "metadata": {},
   "source": [
    "# Boxplot"
   ]
  },
  {
   "cell_type": "code",
   "execution_count": 91,
   "metadata": {},
   "outputs": [
    {
     "data": {
      "text/plain": [
       "<Axes: >"
      ]
     },
     "execution_count": 91,
     "metadata": {},
     "output_type": "execute_result"
    },
    {
     "data": {
      "image/png": "[encoded data removed]",
      "text/plain": [
       "<Figure size 640x480 with 1 Axes>"
      ]
     },
     "metadata": {},
     "output_type": "display_data"
    }
   ],
   "source": [
    "df[\"tip\"].plot(kind=\"box\")"
   ]
  },
  {
   "cell_type": "code",
   "execution_count": 92,
   "metadata": {},
   "outputs": [
    {
     "data": {
      "image/png": "[encoded data removed]",
      "text/plain": [
       "<Figure size 1000x200 with 1 Axes>"
      ]
     },
     "metadata": {},
     "output_type": "display_data"
    }
   ],
   "source": [
    "fig, ax = plt.subplots(figsize=(10, 2))\n",
    "sns.boxplot(x=df[\"tip\"])\n",
    "plt.show()"
   ]
  },
  {
   "cell_type": "markdown",
   "metadata": {},
   "source": [
    "# mieux en 2 graphes sur le meme axe"
   ]
  },
  {
   "cell_type": "code",
   "execution_count": 93,
   "metadata": {},
   "outputs": [
    {
     "data": {
      "text/plain": [
       "<Axes: xlabel='tip'>"
      ]
     },
     "execution_count": 93,
     "metadata": {},
     "output_type": "execute_result"
    },
    {
     "data": {
      "text/plain": [
       "<Figure size 1200x800 with 0 Axes>"
      ]
     },
     "metadata": {},
     "output_type": "display_data"
    },
    {
     "data": {
      "image/png": "[encoded data removed]",
      "text/plain": [
       "<Figure size 640x480 with 2 Axes>"
      ]
     },
     "metadata": {},
     "output_type": "display_data"
    }
   ],
   "source": [
    "plt.figure(figsize=(12,8))\n",
    "\n",
    "fig, ax = plt.subplots(2,1,sharex=True)\n",
    "sns.histplot(data=df, x=\"tip\", ax= ax[0])\n",
    "sns.boxplot(data=df, x=\"tip\", ax= ax[1])"
   ]
  },
  {
   "cell_type": "markdown",
   "metadata": {},
   "source": [
    "## Visualisation et calculs des Quartiles par fréquences cumulées"
   ]
  },
  {
   "cell_type": "code",
   "execution_count": 97,
   "metadata": {},
   "outputs": [
    {
     "data": {
      "application/vnd.microsoft.datawrangler.viewer.v0+json": {
       "columns": [
        {
         "name": "index",
         "rawType": "int64",
         "type": "integer"
        },
        {
         "name": "tip",
         "rawType": "float64",
         "type": "float"
        },
        {
         "name": "freq_cum_croissante",
         "rawType": "float64",
         "type": "float"
        },
        {
         "name": "freq_cum_decroissante",
         "rawType": "float64",
         "type": "float"
        }
       ],
       "ref": "4d96e0e6-c57f-49a5-9a99-35f0e7905297",
       "rows": [
        [
         "67",
         "1.0",
         "0.01639344262295082",
         "0.9877049180327868"
        ],
        [
         "236",
         "1.0",
         "0.01639344262295082",
         "0.9877049180327868"
        ],
        [
         "92",
         "1.0",
         "0.01639344262295082",
         "0.9877049180327868"
        ],
        [
         "111",
         "1.0",
         "0.01639344262295082",
         "0.9877049180327868"
        ],
        [
         "0",
         "1.01",
         "0.020491803278688523",
         "0.9836065573770492"
        ],
        [
         "215",
         "1.1",
         "0.02459016393442623",
         "0.9795081967213114"
        ],
        [
         "237",
         "1.17",
         "0.028688524590163935",
         "0.9754098360655737"
        ],
        [
         "235",
         "1.25",
         "0.040983606557377046",
         "0.9631147540983606"
        ],
        [
         "75",
         "1.25",
         "0.040983606557377046",
         "0.9631147540983606"
        ],
        [
         "135",
         "1.25",
         "0.040983606557377046",
         "0.9631147540983606"
        ],
        [
         "43",
         "1.32",
         "0.045081967213114756",
         "0.9590163934426229"
        ],
        [
         "146",
         "1.36",
         "0.04918032786885246",
         "0.9549180327868851"
        ],
        [
         "218",
         "1.44",
         "0.05737704918032787",
         "0.9467213114754098"
        ],
        [
         "195",
         "1.44",
         "0.05737704918032787",
         "0.9467213114754098"
        ],
        [
         "30",
         "1.45",
         "0.06147540983606557",
         "0.9426229508196721"
        ],
        [
         "233",
         "1.47",
         "0.06557377049180328",
         "0.9385245901639344"
        ],
        [
         "126",
         "1.48",
         "0.06967213114754098",
         "0.9344262295081966"
        ],
        [
         "190",
         "1.5",
         "0.10655737704918032",
         "0.8975409836065573"
        ],
        [
         "57",
         "1.5",
         "0.10655737704918032",
         "0.8975409836065573"
        ],
        [
         "97",
         "1.5",
         "0.10655737704918032",
         "0.8975409836065573"
        ],
        [
         "99",
         "1.5",
         "0.10655737704918032",
         "0.8975409836065573"
        ],
        [
         "117",
         "1.5",
         "0.10655737704918032",
         "0.8975409836065573"
        ],
        [
         "132",
         "1.5",
         "0.10655737704918032",
         "0.8975409836065573"
        ],
        [
         "217",
         "1.5",
         "0.10655737704918032",
         "0.8975409836065573"
        ],
        [
         "145",
         "1.5",
         "0.10655737704918032",
         "0.8975409836065573"
        ],
        [
         "130",
         "1.5",
         "0.10655737704918032",
         "0.8975409836065573"
        ],
        [
         "53",
         "1.56",
         "0.11065573770491803",
         "0.8934426229508197"
        ],
        [
         "12",
         "1.57",
         "0.11475409836065574",
         "0.8893442622950819"
        ],
        [
         "224",
         "1.58",
         "0.11885245901639344",
         "0.8852459016393442"
        ],
        [
         "168",
         "1.61",
         "0.12295081967213115",
         "0.8811475409836065"
        ],
        [
         "147",
         "1.63",
         "0.12704918032786885",
         "0.8770491803278688"
        ],
        [
         "105",
         "1.64",
         "0.13114754098360656",
         "0.8729508196721311"
        ],
        [
         "1",
         "1.66",
         "0.13524590163934427",
         "0.8688524590163934"
        ],
        [
         "16",
         "1.67",
         "0.13934426229508196",
         "0.8647540983606556"
        ],
        [
         "121",
         "1.68",
         "0.14344262295081966",
         "0.860655737704918"
        ],
        [
         "10",
         "1.71",
         "0.14754098360655737",
         "0.8565573770491803"
        ],
        [
         "148",
         "1.73",
         "0.15163934426229508",
         "0.8524590163934426"
        ],
        [
         "242",
         "1.75",
         "0.1557377049180328",
         "0.8483606557377048"
        ],
        [
         "58",
         "1.76",
         "0.1598360655737705",
         "0.8442622950819672"
        ],
        [
         "118",
         "1.8",
         "0.16393442622950818",
         "0.8401639344262295"
        ],
        [
         "82",
         "1.83",
         "0.1680327868852459",
         "0.8360655737704917"
        ],
        [
         "222",
         "1.92",
         "0.1721311475409836",
         "0.8319672131147541"
        ],
        [
         "8",
         "1.96",
         "0.1762295081967213",
         "0.8278688524590163"
        ],
        [
         "70",
         "1.97",
         "0.18032786885245902",
         "0.8237704918032787"
        ],
        [
         "62",
         "1.98",
         "0.18442622950819673",
         "0.8196721311475409"
        ],
        [
         "163",
         "2.0",
         "0.319672131147541",
         "0.6844262295081966"
        ],
        [
         "26",
         "2.0",
         "0.319672131147541",
         "0.6844262295081966"
        ],
        [
         "176",
         "2.0",
         "0.319672131147541",
         "0.6844262295081966"
        ],
        [
         "241",
         "2.0",
         "0.319672131147541",
         "0.6844262295081966"
        ],
        [
         "210",
         "2.0",
         "0.319672131147541",
         "0.6844262295081966"
        ]
       ],
       "shape": {
        "columns": 3,
        "rows": 50
       }
      },
      "text/html": [
       "<div>\n",
       "<style scoped>\n",
       "    .dataframe tbody tr th:only-of-type {\n",
       "        vertical-align: middle;\n",
       "    }\n",
       "\n",
       "    .dataframe tbody tr th {\n",
       "        vertical-align: top;\n",
       "    }\n",
       "\n",
       "    .dataframe thead th {\n",
       "        text-align: right;\n",
       "    }\n",
       "</style>\n",
       "<table border=\"1\" class=\"dataframe\">\n",
       "  <thead>\n",
       "    <tr style=\"text-align: right;\">\n",
       "      <th></th>\n",
       "      <th>tip</th>\n",
       "      <th>freq_cum_croissante</th>\n",
       "      <th>freq_cum_decroissante</th>\n",
       "    </tr>\n",
       "  </thead>\n",
       "  <tbody>\n",
       "    <tr>\n",
       "      <th>67</th>\n",
       "      <td>1.00</td>\n",
       "      <td>0.016393</td>\n",
       "      <td>0.987705</td>\n",
       "    </tr>\n",
       "    <tr>\n",
       "      <th>236</th>\n",
       "      <td>1.00</td>\n",
       "      <td>0.016393</td>\n",
       "      <td>0.987705</td>\n",
       "    </tr>\n",
       "    <tr>\n",
       "      <th>92</th>\n",
       "      <td>1.00</td>\n",
       "      <td>0.016393</td>\n",
       "      <td>0.987705</td>\n",
       "    </tr>\n",
       "    <tr>\n",
       "      <th>111</th>\n",
       "      <td>1.00</td>\n",
       "      <td>0.016393</td>\n",
       "      <td>0.987705</td>\n",
       "    </tr>\n",
       "    <tr>\n",
       "      <th>0</th>\n",
       "      <td>1.01</td>\n",
       "      <td>0.020492</td>\n",
       "      <td>0.983607</td>\n",
       "    </tr>\n",
       "    <tr>\n",
       "      <th>215</th>\n",
       "      <td>1.10</td>\n",
       "      <td>0.024590</td>\n",
       "      <td>0.979508</td>\n",
       "    </tr>\n",
       "    <tr>\n",
       "      <th>237</th>\n",
       "      <td>1.17</td>\n",
       "      <td>0.028689</td>\n",
       "      <td>0.975410</td>\n",
       "    </tr>\n",
       "    <tr>\n",
       "      <th>235</th>\n",
       "      <td>1.25</td>\n",
       "      <td>0.040984</td>\n",
       "      <td>0.963115</td>\n",
       "    </tr>\n",
       "    <tr>\n",
       "      <th>75</th>\n",
       "      <td>1.25</td>\n",
       "      <td>0.040984</td>\n",
       "      <td>0.963115</td>\n",
       "    </tr>\n",
       "    <tr>\n",
       "      <th>135</th>\n",
       "      <td>1.25</td>\n",
       "      <td>0.040984</td>\n",
       "      <td>0.963115</td>\n",
       "    </tr>\n",
       "    <tr>\n",
       "      <th>43</th>\n",
       "      <td>1.32</td>\n",
       "      <td>0.045082</td>\n",
       "      <td>0.959016</td>\n",
       "    </tr>\n",
       "    <tr>\n",
       "      <th>146</th>\n",
       "      <td>1.36</td>\n",
       "      <td>0.049180</td>\n",
       "      <td>0.954918</td>\n",
       "    </tr>\n",
       "    <tr>\n",
       "      <th>218</th>\n",
       "      <td>1.44</td>\n",
       "      <td>0.057377</td>\n",
       "      <td>0.946721</td>\n",
       "    </tr>\n",
       "    <tr>\n",
       "      <th>195</th>\n",
       "      <td>1.44</td>\n",
       "      <td>0.057377</td>\n",
       "      <td>0.946721</td>\n",
       "    </tr>\n",
       "    <tr>\n",
       "      <th>30</th>\n",
       "      <td>1.45</td>\n",
       "      <td>0.061475</td>\n",
       "      <td>0.942623</td>\n",
       "    </tr>\n",
       "    <tr>\n",
       "      <th>233</th>\n",
       "      <td>1.47</td>\n",
       "      <td>0.065574</td>\n",
       "      <td>0.938525</td>\n",
       "    </tr>\n",
       "    <tr>\n",
       "      <th>126</th>\n",
       "      <td>1.48</td>\n",
       "      <td>0.069672</td>\n",
       "      <td>0.934426</td>\n",
       "    </tr>\n",
       "    <tr>\n",
       "      <th>190</th>\n",
       "      <td>1.50</td>\n",
       "      <td>0.106557</td>\n",
       "      <td>0.897541</td>\n",
       "    </tr>\n",
       "    <tr>\n",
       "      <th>57</th>\n",
       "      <td>1.50</td>\n",
       "      <td>0.106557</td>\n",
       "      <td>0.897541</td>\n",
       "    </tr>\n",
       "    <tr>\n",
       "      <th>97</th>\n",
       "      <td>1.50</td>\n",
       "      <td>0.106557</td>\n",
       "      <td>0.897541</td>\n",
       "    </tr>\n",
       "    <tr>\n",
       "      <th>99</th>\n",
       "      <td>1.50</td>\n",
       "      <td>0.106557</td>\n",
       "      <td>0.897541</td>\n",
       "    </tr>\n",
       "    <tr>\n",
       "      <th>117</th>\n",
       "      <td>1.50</td>\n",
       "      <td>0.106557</td>\n",
       "      <td>0.897541</td>\n",
       "    </tr>\n",
       "    <tr>\n",
       "      <th>132</th>\n",
       "      <td>1.50</td>\n",
       "      <td>0.106557</td>\n",
       "      <td>0.897541</td>\n",
       "    </tr>\n",
       "    <tr>\n",
       "      <th>217</th>\n",
       "      <td>1.50</td>\n",
       "      <td>0.106557</td>\n",
       "      <td>0.897541</td>\n",
       "    </tr>\n",
       "    <tr>\n",
       "      <th>145</th>\n",
       "      <td>1.50</td>\n",
       "      <td>0.106557</td>\n",
       "      <td>0.897541</td>\n",
       "    </tr>\n",
       "    <tr>\n",
       "      <th>130</th>\n",
       "      <td>1.50</td>\n",
       "      <td>0.106557</td>\n",
       "      <td>0.897541</td>\n",
       "    </tr>\n",
       "    <tr>\n",
       "      <th>53</th>\n",
       "      <td>1.56</td>\n",
       "      <td>0.110656</td>\n",
       "      <td>0.893443</td>\n",
       "    </tr>\n",
       "    <tr>\n",
       "      <th>12</th>\n",
       "      <td>1.57</td>\n",
       "      <td>0.114754</td>\n",
       "      <td>0.889344</td>\n",
       "    </tr>\n",
       "    <tr>\n",
       "      <th>224</th>\n",
       "      <td>1.58</td>\n",
       "      <td>0.118852</td>\n",
       "      <td>0.885246</td>\n",
       "    </tr>\n",
       "    <tr>\n",
       "      <th>168</th>\n",
       "      <td>1.61</td>\n",
       "      <td>0.122951</td>\n",
       "      <td>0.881148</td>\n",
       "    </tr>\n",
       "    <tr>\n",
       "      <th>147</th>\n",
       "      <td>1.63</td>\n",
       "      <td>0.127049</td>\n",
       "      <td>0.877049</td>\n",
       "    </tr>\n",
       "    <tr>\n",
       "      <th>105</th>\n",
       "      <td>1.64</td>\n",
       "      <td>0.131148</td>\n",
       "      <td>0.872951</td>\n",
       "    </tr>\n",
       "    <tr>\n",
       "      <th>1</th>\n",
       "      <td>1.66</td>\n",
       "      <td>0.135246</td>\n",
       "      <td>0.868852</td>\n",
       "    </tr>\n",
       "    <tr>\n",
       "      <th>16</th>\n",
       "      <td>1.67</td>\n",
       "      <td>0.139344</td>\n",
       "      <td>0.864754</td>\n",
       "    </tr>\n",
       "    <tr>\n",
       "      <th>121</th>\n",
       "      <td>1.68</td>\n",
       "      <td>0.143443</td>\n",
       "      <td>0.860656</td>\n",
       "    </tr>\n",
       "    <tr>\n",
       "      <th>10</th>\n",
       "      <td>1.71</td>\n",
       "      <td>0.147541</td>\n",
       "      <td>0.856557</td>\n",
       "    </tr>\n",
       "    <tr>\n",
       "      <th>148</th>\n",
       "      <td>1.73</td>\n",
       "      <td>0.151639</td>\n",
       "      <td>0.852459</td>\n",
       "    </tr>\n",
       "    <tr>\n",
       "      <th>242</th>\n",
       "      <td>1.75</td>\n",
       "      <td>0.155738</td>\n",
       "      <td>0.848361</td>\n",
       "    </tr>\n",
       "    <tr>\n",
       "      <th>58</th>\n",
       "      <td>1.76</td>\n",
       "      <td>0.159836</td>\n",
       "      <td>0.844262</td>\n",
       "    </tr>\n",
       "    <tr>\n",
       "      <th>118</th>\n",
       "      <td>1.80</td>\n",
       "      <td>0.163934</td>\n",
       "      <td>0.840164</td>\n",
       "    </tr>\n",
       "    <tr>\n",
       "      <th>82</th>\n",
       "      <td>1.83</td>\n",
       "      <td>0.168033</td>\n",
       "      <td>0.836066</td>\n",
       "    </tr>\n",
       "    <tr>\n",
       "      <th>222</th>\n",
       "      <td>1.92</td>\n",
       "      <td>0.172131</td>\n",
       "      <td>0.831967</td>\n",
       "    </tr>\n",
       "    <tr>\n",
       "      <th>8</th>\n",
       "      <td>1.96</td>\n",
       "      <td>0.176230</td>\n",
       "      <td>0.827869</td>\n",
       "    </tr>\n",
       "    <tr>\n",
       "      <th>70</th>\n",
       "      <td>1.97</td>\n",
       "      <td>0.180328</td>\n",
       "      <td>0.823770</td>\n",
       "    </tr>\n",
       "    <tr>\n",
       "      <th>62</th>\n",
       "      <td>1.98</td>\n",
       "      <td>0.184426</td>\n",
       "      <td>0.819672</td>\n",
       "    </tr>\n",
       "    <tr>\n",
       "      <th>163</th>\n",
       "      <td>2.00</td>\n",
       "      <td>0.319672</td>\n",
       "      <td>0.684426</td>\n",
       "    </tr>\n",
       "    <tr>\n",
       "      <th>26</th>\n",
       "      <td>2.00</td>\n",
       "      <td>0.319672</td>\n",
       "      <td>0.684426</td>\n",
       "    </tr>\n",
       "    <tr>\n",
       "      <th>176</th>\n",
       "      <td>2.00</td>\n",
       "      <td>0.319672</td>\n",
       "      <td>0.684426</td>\n",
       "    </tr>\n",
       "    <tr>\n",
       "      <th>241</th>\n",
       "      <td>2.00</td>\n",
       "      <td>0.319672</td>\n",
       "      <td>0.684426</td>\n",
       "    </tr>\n",
       "    <tr>\n",
       "      <th>210</th>\n",
       "      <td>2.00</td>\n",
       "      <td>0.319672</td>\n",
       "      <td>0.684426</td>\n",
       "    </tr>\n",
       "  </tbody>\n",
       "</table>\n",
       "</div>"
      ],
      "text/plain": [
       "      tip  freq_cum_croissante  freq_cum_decroissante\n",
       "67   1.00             0.016393               0.987705\n",
       "236  1.00             0.016393               0.987705\n",
       "92   1.00             0.016393               0.987705\n",
       "111  1.00             0.016393               0.987705\n",
       "0    1.01             0.020492               0.983607\n",
       "215  1.10             0.024590               0.979508\n",
       "237  1.17             0.028689               0.975410\n",
       "235  1.25             0.040984               0.963115\n",
       "75   1.25             0.040984               0.963115\n",
       "135  1.25             0.040984               0.963115\n",
       "43   1.32             0.045082               0.959016\n",
       "146  1.36             0.049180               0.954918\n",
       "218  1.44             0.057377               0.946721\n",
       "195  1.44             0.057377               0.946721\n",
       "30   1.45             0.061475               0.942623\n",
       "233  1.47             0.065574               0.938525\n",
       "126  1.48             0.069672               0.934426\n",
       "190  1.50             0.106557               0.897541\n",
       "57   1.50             0.106557               0.897541\n",
       "97   1.50             0.106557               0.897541\n",
       "99   1.50             0.106557               0.897541\n",
       "117  1.50             0.106557               0.897541\n",
       "132  1.50             0.106557               0.897541\n",
       "217  1.50             0.106557               0.897541\n",
       "145  1.50             0.106557               0.897541\n",
       "130  1.50             0.106557               0.897541\n",
       "53   1.56             0.110656               0.893443\n",
       "12   1.57             0.114754               0.889344\n",
       "224  1.58             0.118852               0.885246\n",
       "168  1.61             0.122951               0.881148\n",
       "147  1.63             0.127049               0.877049\n",
       "105  1.64             0.131148               0.872951\n",
       "1    1.66             0.135246               0.868852\n",
       "16   1.67             0.139344               0.864754\n",
       "121  1.68             0.143443               0.860656\n",
       "10   1.71             0.147541               0.856557\n",
       "148  1.73             0.151639               0.852459\n",
       "242  1.75             0.155738               0.848361\n",
       "58   1.76             0.159836               0.844262\n",
       "118  1.80             0.163934               0.840164\n",
       "82   1.83             0.168033               0.836066\n",
       "222  1.92             0.172131               0.831967\n",
       "8    1.96             0.176230               0.827869\n",
       "70   1.97             0.180328               0.823770\n",
       "62   1.98             0.184426               0.819672\n",
       "163  2.00             0.319672               0.684426\n",
       "26   2.00             0.319672               0.684426\n",
       "176  2.00             0.319672               0.684426\n",
       "241  2.00             0.319672               0.684426\n",
       "210  2.00             0.319672               0.684426"
      ]
     },
     "metadata": {},
     "output_type": "display_data"
    },
    {
     "data": {
      "image/png": "[encoded data removed]",
      "text/plain": [
       "<Figure size 1000x500 with 1 Axes>"
      ]
     },
     "metadata": {},
     "output_type": "display_data"
    }
   ],
   "source": [
    "# MODIFICATION : à adapter à ta colonne d'intérêt, ici 'ma_colonne'\n",
    "import pandas as pd\n",
    "import matplotlib.pyplot as plt\n",
    "\n",
    "# Exemple : changer 'ma_colonne' par le nom de ta variable (ex: 'prix', 'valeur', etc.)\n",
    "colonne = 'tip'\n",
    "data = df[[colonne]].dropna().sort_values(by=colonne)\n",
    "\n",
    "# Fréquence cumulée croissante\n",
    "data['freq_cum_croissante'] = data.rank(method='max', pct=True)\n",
    "\n",
    "# Fréquence cumulée décroissante\n",
    "data['freq_cum_decroissante'] = 1 - data['freq_cum_croissante'] + (1 / len(data))\n",
    "\n",
    "# Affichage des 10 premières lignes\n",
    "display(data.head(50))\n",
    "\n",
    "# Graphique\n",
    "plt.figure(figsize=(10, 5))\n",
    "plt.plot(data[colonne], data['freq_cum_croissante'], label='Fréquence cumulée croissante')\n",
    "plt.plot(data[colonne], data['freq_cum_decroissante'], label='Fréquence cumulée décroissante')\n",
    "plt.xlabel(colonne)\n",
    "plt.ylabel(\"Fréquence cumulée\")\n",
    "plt.title(f\"Fréquences cumulées de la variable '{colonne}'\")\n",
    "plt.legend()\n",
    "plt.grid(True)\n",
    "plt.show()\n"
   ]
  },
  {
   "cell_type": "markdown",
   "metadata": {},
   "source": [
    "# Analyse Multivariée"
   ]
  },
  {
   "cell_type": "markdown",
   "metadata": {},
   "source": [
    "## Discret / Discret"
   ]
  },
  {
   "cell_type": "code",
   "execution_count": null,
   "metadata": {},
   "outputs": [],
   "source": [
    "pd.crosstab(df[\"sex\"], df[\"smoker\"])"
   ]
  },
  {
   "cell_type": "code",
   "execution_count": null,
   "metadata": {},
   "outputs": [],
   "source": [
    "pd.crosstab(df[\"size\"], df[\"day\"], normalize=True)"
   ]
  },
  {
   "cell_type": "markdown",
   "metadata": {},
   "source": [
    "## Heatmap / crosstab"
   ]
  },
  {
   "cell_type": "code",
   "execution_count": null,
   "metadata": {},
   "outputs": [],
   "source": [
    "sns.heatmap(pd.crosstab(df[\"size\"], df[\"day\"]), annot=True)"
   ]
  },
  {
   "cell_type": "markdown",
   "metadata": {},
   "source": [
    "# Discret / Continue"
   ]
  },
  {
   "cell_type": "code",
   "execution_count": null,
   "metadata": {},
   "outputs": [],
   "source": [
    "df.groupby(\"sex\")[\"tip\"].mean()"
   ]
  },
  {
   "cell_type": "code",
   "execution_count": null,
   "metadata": {},
   "outputs": [],
   "source": [
    "df.groupby(\"sex\")[\"tip\"].describe()"
   ]
  },
  {
   "cell_type": "markdown",
   "metadata": {},
   "source": [
    "## Plotbar Catplot Displot boxplot"
   ]
  },
  {
   "cell_type": "code",
   "execution_count": null,
   "metadata": {},
   "outputs": [],
   "source": [
    "df.groupby(\"sex\")[\"tip\"].mean().plot(kind=\"bar\")"
   ]
  },
  {
   "cell_type": "code",
   "execution_count": null,
   "metadata": {},
   "outputs": [],
   "source": [
    "sns.catplot(data=df, x=\"sex\", y=\"tip\", kind=\"bar\")"
   ]
  },
  {
   "cell_type": "code",
   "execution_count": null,
   "metadata": {},
   "outputs": [],
   "source": [
    "sns.displot(data=df, x=\"tip\", hue=\"sex\")"
   ]
  },
  {
   "cell_type": "code",
   "execution_count": null,
   "metadata": {},
   "outputs": [],
   "source": [
    "sns.boxplot(data=df, x=\"tip\", y=\"sex\", hue=\"sex\")"
   ]
  },
  {
   "cell_type": "markdown",
   "metadata": {},
   "source": [
    "# continue / continue\n",
    "\n",
    "## Scatterplot pairplot"
   ]
  },
  {
   "cell_type": "code",
   "execution_count": null,
   "metadata": {},
   "outputs": [],
   "source": [
    "sns.scatterplot(data=df, x=\"tip\", y=\"total_bill\")"
   ]
  },
  {
   "cell_type": "code",
   "execution_count": null,
   "metadata": {},
   "outputs": [],
   "source": [
    "sns.pairplot(data=df, hue=\"size\")"
   ]
  },
  {
   "cell_type": "code",
   "execution_count": null,
   "metadata": {},
   "outputs": [],
   "source": [
    "sns.pairplot(data=df, hue=\"sex\")"
   ]
  },
  {
   "cell_type": "code",
   "execution_count": null,
   "metadata": {},
   "outputs": [],
   "source": []
  },
  {
   "cell_type": "code",
   "execution_count": null,
   "metadata": {},
   "outputs": [],
   "source": []
  },
  {
   "cell_type": "code",
   "execution_count": null,
   "metadata": {},
   "outputs": [],
   "source": []
  },
  {
   "cell_type": "code",
   "execution_count": null,
   "metadata": {},
   "outputs": [],
   "source": []
  },
  {
   "cell_type": "code",
   "execution_count": null,
   "metadata": {},
   "outputs": [],
   "source": []
  },
  {
   "cell_type": "code",
   "execution_count": null,
   "metadata": {},
   "outputs": [],
   "source": []
  },
  {
   "cell_type": "code",
   "execution_count": null,
   "metadata": {},
   "outputs": [],
   "source": []
  },
  {
   "cell_type": "code",
   "execution_count": null,
   "metadata": {},
   "outputs": [],
   "source": []
  },
  {
   "cell_type": "code",
   "execution_count": null,
   "metadata": {},
   "outputs": [],
   "source": []
  },
  {
   "cell_type": "code",
   "execution_count": null,
   "metadata": {},
   "outputs": [],
   "source": []
  }
 ],
 "metadata": {
  "kernelspec": {
   "display_name": "Python (ML-Pro-venv)",
   "language": "python",
   "name": "ml-pro-venv"
  },
  "language_info": {
   "codemirror_mode": {
    "name": "ipython",
    "version": 3
   },
   "file_extension": ".py",
   "mimetype": "text/x-python",
   "name": "python",
   "nbconvert_exporter": "python",
   "pygments_lexer": "ipython3",
   "version": "3.9.13"
  }
 },
 "nbformat": 4,
 "nbformat_minor": 2
}
