{
 "cells": [
  {
   "cell_type": "markdown",
   "id": "c5af4447-5dcc-4f70-b377-198da1c6481a",
   "metadata": {},
   "source": [
    "# 1. Opérations matricielles\n",
    "### Niveau Débutant : Création et manipulation de matrices\n",
    "Nous allons commencer par la création de matrices avec NumPy et quelques opérations de base."
   ]
  },
  {
   "cell_type": "code",
   "execution_count": 1,
   "id": "4564b856-819f-4e1d-8883-b3fabe92136d",
   "metadata": {},
   "outputs": [
    {
     "name": "stdout",
     "output_type": "stream",
     "text": [
      "Matrice 2x2 :\n",
      " [[1 2]\n",
      " [3 4]]\n",
      "Élément [0, 1] : 2\n",
      "Matrice transposée :\n",
      " [[1 3]\n",
      " [2 4]]\n"
     ]
    }
   ],
   "source": [
    "import numpy as np  # Importation de la bibliothèque NumPy\n",
    "\n",
    "# Création d'une matrice 2x2 avec des nombres entiers\n",
    "matrice = np.array([[1, 2], [3, 4]])\n",
    "print(\"Matrice 2x2 :\\n\", matrice)\n",
    "\n",
    "# Accès aux éléments de la matrice\n",
    "element = matrice[0, 1]  # Accès à l'élément à la première ligne et deuxième colonne\n",
    "print(\"Élément [0, 1] :\", element)  # Affiche 2\n",
    "\n",
    "# Transposition d'une matrice\n",
    "transposee = np.transpose(matrice)\n",
    "print(\"Matrice transposée :\\n\", transposee)  # Affiche [[1 3], [2 4]]\n"
   ]
  },
  {
   "cell_type": "code",
   "execution_count": 5,
   "id": "39217f47-79d1-4cb4-8afe-c21f195a2b51",
   "metadata": {},
   "outputs": [],
   "source": [
    "matrice1 = np.array([[5,6],[14,-3]])"
   ]
  },
  {
   "cell_type": "markdown",
   "id": "989987cc-392e-4032-989f-a0e42e938cad",
   "metadata": {},
   "source": [
    "### Niveau Intermédiaire : Opérations matricielles élémentaires\n",
    "À ce niveau, nous allons effectuer des opérations comme la multiplication, l'inversion, et d'autres opérations classiques sur les matrices."
   ]
  },
  {
   "cell_type": "code",
   "execution_count": 7,
   "id": "75d187a6-de7a-442c-8ff9-ea81e1bb487e",
   "metadata": {},
   "outputs": [
    {
     "name": "stdout",
     "output_type": "stream",
     "text": [
      "Produit matriciel :\n",
      " [[19 22]\n",
      " [43 50]]\n",
      "Déterminant de la matrice : -2.0000000000000004\n",
      "Matrice inversée :\n",
      " [[-2.   1. ]\n",
      " [ 1.5 -0.5]]\n"
     ]
    }
   ],
   "source": [
    "# Multiplication matricielle\n",
    "matrice_2 = np.array([[5, 6], [7, 8]])\n",
    "produit_matriciel = np.dot(matrice, matrice_2)\n",
    "print(\"Produit matriciel :\\n\", produit_matriciel)  # Affiche [[19 22], [43 50]]\n",
    "\n",
    "# Déterminant d'une matrice\n",
    "determinant = np.linalg.det(matrice)\n",
    "print(\"Déterminant de la matrice :\", determinant)  # Affiche -2.0\n",
    "\n",
    "# Inversion de matrice (si elle est inversible)\n",
    "matrice_inversible = np.linalg.inv(matrice)\n",
    "print(\"Matrice inversée :\\n\", matrice_inversible)  # Affiche [[-2.  1.], [1.5 -0.5]]\n"
   ]
  },
  {
   "cell_type": "markdown",
   "id": "20e91c6f-a372-4949-851d-798ab07d4695",
   "metadata": {},
   "source": [
    "### Niveau ++ : Décomposition et solutions de systèmes d'équations linéaires\n",
    "Nous allons explorer des concepts plus avancés comme la décomposition en valeurs propres et la résolution de systèmes d'équations linéaires."
   ]
  },
  {
   "cell_type": "code",
   "execution_count": 9,
   "id": "9e49c23d-c611-4bf9-a7f5-87355e5a7b09",
   "metadata": {},
   "outputs": [
    {
     "name": "stdout",
     "output_type": "stream",
     "text": [
      "Valeurs propres : [-0.37228132  5.37228132]\n",
      "Vecteurs propres :\n",
      " [[-0.82456484 -0.41597356]\n",
      " [ 0.56576746 -0.90937671]]\n",
      "Solution du système A*x = b : [2. 3.]\n"
     ]
    }
   ],
   "source": [
    "# Décomposition en valeurs propres\n",
    "valeurs_propres, vecteurs_propres = np.linalg.eig(matrice)\n",
    "print(\"Valeurs propres :\", valeurs_propres)  # Affiche les valeurs propres\n",
    "print(\"Vecteurs propres :\\n\", vecteurs_propres)  # Affiche les vecteurs propres associés\n",
    "\n",
    "# Résolution d'un système d'équations linéaires : A*x = b\n",
    "A = np.array([[3, 1], [1, 2]])\n",
    "b = np.array([9, 8])\n",
    "solution = np.linalg.solve(A, b)\n",
    "print(\"Solution du système A*x = b :\", solution)  # Affiche [2. 3.]\n"
   ]
  },
  {
   "cell_type": "markdown",
   "id": "99480c06-5193-45a9-bd57-04209ee8a8fd",
   "metadata": {},
   "source": [
    "### 2. Les fonctions incontournables\n",
    "Niveau Débutant : Fonctions mathématiques de base\n",
    "Nous allons découvrir certaines fonctions mathématiques de base intégrées dans NumPy."
   ]
  },
  {
   "cell_type": "code",
   "execution_count": 11,
   "id": "7372535d-cdbd-4a2c-9f77-23e02870a296",
   "metadata": {},
   "outputs": [
    {
     "name": "stdout",
     "output_type": "stream",
     "text": [
      "Somme des éléments de la matrice : 10\n",
      "Produit des éléments de la matrice : 24\n",
      "Moyenne : 2.5\n",
      "Écart-type : 1.118033988749895\n"
     ]
    }
   ],
   "source": [
    "# Somme et produit des éléments d'une matrice\n",
    "somme_elements = np.sum(matrice)\n",
    "print(\"Somme des éléments de la matrice :\", somme_elements)  # Affiche 10\n",
    "\n",
    "produit_elements = np.prod(matrice)\n",
    "print(\"Produit des éléments de la matrice :\", produit_elements)  # Affiche 24\n",
    "\n",
    "# Calcul de la moyenne, médiane et écart-type\n",
    "moyenne = np.mean(matrice)\n",
    "print(\"Moyenne :\", moyenne)  # Affiche 2.5\n",
    "\n",
    "ecart_type = np.std(matrice)\n",
    "print(\"Écart-type :\", ecart_type)  # Affiche 1.118033988749895\n",
    "\n",
    "# si loi normale (ou distribution gaussienne) => Règle des 68%-95%-99.7% sur [μ−σ,μ+σ] - [μ−2σ,μ+2σ] - [μ−3σ,μ+3σ]\n"
   ]
  },
  {
   "cell_type": "markdown",
   "id": "d5c0fab0-5d84-4b24-ab60-d769c49a13b9",
   "metadata": {},
   "source": [
    "### Niveau Intermédiaire : Fonctionnalités statistiques et logiques\n",
    "À ce niveau, nous allons approfondir l'utilisation des fonctions statistiques et logiques."
   ]
  },
  {
   "cell_type": "code",
   "execution_count": 13,
   "id": "ccb54631-7929-4826-a3d7-987dc4fcc2fc",
   "metadata": {},
   "outputs": [
    {
     "name": "stdout",
     "output_type": "stream",
     "text": [
      "Minimum de la matrice : 1\n",
      "Maximum de la matrice : 4\n",
      "Éléments supérieurs à 2 :\n",
      " [[False False]\n",
      " [ True  True]]\n",
      "Nombre d'éléments supérieurs à 2 : 2\n"
     ]
    }
   ],
   "source": [
    "# Minimum, maximum et médiane des éléments d'une matrice\n",
    "minimum = np.min(matrice)\n",
    "print(\"Minimum de la matrice :\", minimum)  # Affiche 1\n",
    "\n",
    "maximum = np.max(matrice)\n",
    "print(\"Maximum de la matrice :\", maximum)  # Affiche 4\n",
    "\n",
    "# Fonctions logiques (comparaison)\n",
    "superieur_a_2 = matrice > 2\n",
    "print(\"Éléments supérieurs à 2 :\\n\", superieur_a_2)  # Affiche un tableau booléen\n",
    "\n",
    "# Comptage d'éléments selon une condition\n",
    "comptage = np.sum(matrice > 2)\n",
    "print(\"Nombre d'éléments supérieurs à 2 :\", comptage)  # Affiche 2\n"
   ]
  },
  {
   "cell_type": "code",
   "execution_count": 15,
   "id": "6f3e9d3c-e190-46fa-b74f-aff766904241",
   "metadata": {},
   "outputs": [
    {
     "data": {
      "text/plain": [
       "array([[False, False],\n",
       "       [ True,  True]])"
      ]
     },
     "execution_count": 15,
     "metadata": {},
     "output_type": "execute_result"
    }
   ],
   "source": [
    "matrice > 2"
   ]
  },
  {
   "cell_type": "markdown",
   "id": "aec2d95e-981b-4be8-b19a-898c168a14b0",
   "metadata": {},
   "source": [
    "### Niveau ++ : Fonctions avancées de manipulation\n",
    "Nous allons découvrir des fonctions de manipulation plus avancées, comme les fonctions d'interpolation et les transformations FFT."
   ]
  },
  {
   "cell_type": "code",
   "execution_count": 19,
   "id": "d59786b5-77a1-4529-9bb6-1eea4c8b921c",
   "metadata": {},
   "outputs": [
    {
     "name": "stdout",
     "output_type": "stream",
     "text": [
      "Interpolation linéaire pour x=0.5 et x=1.5 : [0.5 2.5]\n",
      "Transformée de Fourier du signal : [0.+0.j 0.-2.j 0.+0.j 0.+2.j]\n"
     ]
    }
   ],
   "source": [
    "# Interpolation linéaire\n",
    "x = np.array([0, 1, 2])\n",
    "y = np.array([0, 1, 4])\n",
    "nouveau_x = np.array([0.5, 1.5])\n",
    "interpolation = np.interp(nouveau_x, x, y)\n",
    "print(\"Interpolation linéaire pour x=0.5 et x=1.5 :\", interpolation)  # Affiche [0.5 2.5]\n",
    "\n",
    "# Transformation de Fourier rapide (FFT)\n",
    "signal = np.array([0, 1, 0, -1])\n",
    "fft = np.fft.fft(signal)\n",
    "print(\"Transformée de Fourier du signal :\", fft)\n"
   ]
  },
  {
   "cell_type": "code",
   "execution_count": 22,
   "id": "9abd7951-7ce1-48be-89f7-b43f97ab3ed0",
   "metadata": {},
   "outputs": [
    {
     "data": {
      "text/plain": [
       "' éliminer la ligne du dessus inutile '"
      ]
     },
     "execution_count": 22,
     "metadata": {},
     "output_type": "execute_result"
    }
   ],
   "source": [
    "\"\"\" éliminer la ligne du dessus inutile \"\"\""
   ]
  },
  {
   "cell_type": "markdown",
   "id": "f2836d27-7763-4a0f-9790-ddd28cddc8e0",
   "metadata": {},
   "source": [
    "# 3. Entrées/Sorties et formats de fichiers\n",
    "### Niveau Débutant : Lecture et écriture de fichiers avec NumPy\n",
    "NumPy offre des fonctions simples pour lire et écrire des fichiers sous différents formats."
   ]
  },
  {
   "cell_type": "code",
   "execution_count": 24,
   "id": "eac1d5b9-5b47-40ea-a704-5c8690c1e91a",
   "metadata": {},
   "outputs": [
    {
     "name": "stdout",
     "output_type": "stream",
     "text": [
      "Matrice sauvegardée dans 'matrice.txt'.\n",
      "Matrice chargée depuis 'matrice.txt' :\n",
      " [[1 2]\n",
      " [3 4]]\n"
     ]
    }
   ],
   "source": [
    "# Sauvegarder un tableau NumPy dans un fichier texte\n",
    "np.savetxt('data/matrice.txt', matrice, fmt='%d')\n",
    "print(\"Matrice sauvegardée dans 'matrice.txt'.\")\n",
    "\n",
    "# Charger un tableau depuis un fichier texte\n",
    "matrice_chargee = np.loadtxt('data/matrice.txt', dtype=np.int32)\n",
    "print(\"Matrice chargée depuis 'matrice.txt' :\\n\", matrice_chargee)\n"
   ]
  },
  {
   "cell_type": "markdown",
   "id": "88a87fcd-2ddc-4507-9f08-197e0a88c3d4",
   "metadata": {},
   "source": [
    "### Niveau Intermédiaire : Formats natifs NumPy\n",
    "NumPy propose également un format binaire plus performant, .npy, pour stocker des données."
   ]
  },
  {
   "cell_type": "code",
   "execution_count": 26,
   "id": "e9ab55fe-cb45-413d-aada-f93e76aee5ca",
   "metadata": {},
   "outputs": [
    {
     "name": "stdout",
     "output_type": "stream",
     "text": [
      "Matrice sauvegardée dans 'matrice.npy'.\n",
      "Matrice chargée depuis 'matrice.npy' :\n",
      " [[1 2]\n",
      " [3 4]]\n"
     ]
    }
   ],
   "source": [
    "# Sauvegarder un tableau au format .npy\n",
    "np.save('data/matrice.npy', matrice)\n",
    "print(\"Matrice sauvegardée dans 'matrice.npy'.\")\n",
    "\n",
    "# Charger un tableau depuis un fichier .npy\n",
    "matrice_chargee_npy = np.load('data/matrice.npy')\n",
    "print(\"Matrice chargée depuis 'matrice.npy' :\\n\", matrice_chargee_npy)\n"
   ]
  },
  {
   "cell_type": "markdown",
   "id": "4b3a83ea-ef98-41c0-b907-cd3abe9f60a3",
   "metadata": {},
   "source": [
    "### Niveau Expert : Gestion des formats scientifiques (NetCDF, HDF5, Matlab)\n",
    "#### a) NetCDF :\n",
    "NetCDF est un format populaire pour le stockage de données scientifiques multidimensionnelles."
   ]
  },
  {
   "cell_type": "code",
   "execution_count": 28,
   "id": "91557f6e-8255-4dd6-8ebd-8efacb6995af",
   "metadata": {},
   "outputs": [
    {
     "name": "stdout",
     "output_type": "stream",
     "text": [
      "Données du fichier NetCDF : [1 2]\n"
     ]
    }
   ],
   "source": [
    "import netCDF4 as nc # Le module est importé sous l'alias nc pour simplifier l'utilisation des fonctions.\n",
    "\n",
    "# Créer un fichier NetCDF et y stocker un tableau\n",
    "\n",
    "# Création d'un fichier NetCDF et stockage de données en mode w (write) au format METCDF4\n",
    "ncfile = nc.Dataset('data/exemple.nc', mode='w', format='NETCDF4')\n",
    "# Création d'une dimension similaire aux axes dans les tableaux multidimensionnels. Elles définissent la taille et la structure des variables dans le fichier.\n",
    "dim1 = ncfile.createDimension('dim1', 2)  # La dimension est ici statique (taille fixe de 2).\n",
    "# Création d'une variable associée à la dimension\n",
    "var = ncfile.createVariable('var', np.int32, ('dim1',)) # La variable est de type np.int32 (entiers 32 bits), donc elle stockera des entiers sur 32 bits, associé à dim1\n",
    "# Stockage de données dans la variable\n",
    "var[:] = matrice[0]  # var[:] on veut accéder à toute la variable (dans ce cas, à toutes les valeurs le long de la dimension 'dim1'). matrice[0] = 1er ligne de matrice\n",
    "# fermeture du fichier NetCDF\n",
    "ncfile.close()\n",
    "\n",
    "# Lire un fichier NetCDF\n",
    "ncfile = nc.Dataset('data/exemple.nc', mode='r')\n",
    "donnees = ncfile.variables['var'][:]\n",
    "print(\"Données du fichier NetCDF :\", donnees)  # Affiche [1 2]\n",
    "ncfile.close()\n"
   ]
  },
  {
   "cell_type": "markdown",
   "id": "87c1c555-37e7-4134-abe8-b02444f4b551",
   "metadata": {},
   "source": [
    "#### b) HDF5 :\n",
    "HDF5 est un format utilisé pour le stockage de grandes quantités de données scientifiques."
   ]
  },
  {
   "cell_type": "code",
   "execution_count": null,
   "id": "16aa2516-fb02-4df1-b465-014ef9d6829f",
   "metadata": {},
   "outputs": [],
   "source": [
    "import h5py\n",
    "\n",
    "# Créer un fichier HDF5 et y stocker un tableau\n",
    "with h5py.File('data/exemple.h5', 'w') as h5file:\n",
    "    h5file.create_dataset('dataset', data=matrice)\n",
    "\n",
    "# Lire un fichier HDF5\n",
    "with h5py.File('data/exemple.h5', 'r') as h5file:\n",
    "    donnees = h5file['dataset'][:]\n",
    "    print(\"Données du fichier HDF5 :\\n\", donnees)  # Affiche la matrice\n"
   ]
  },
  {
   "cell_type": "markdown",
   "id": "77decd0f-a1ab-4181-9c2a-bd5cd2fe1cb3",
   "metadata": {},
   "source": [
    "#### c) MATLAB :\n",
    "Le format MATLAB permet d'échanger des données entre NumPy et MATLAB."
   ]
  },
  {
   "cell_type": "code",
   "execution_count": 30,
   "id": "eb00edf4-496b-4034-ace2-9f882327a9da",
   "metadata": {},
   "outputs": [
    {
     "name": "stdout",
     "output_type": "stream",
     "text": [
      "Matrice sauvegardée dans 'matrice.mat'.\n",
      "Données du fichier MATLAB :\n",
      " [[1 2]\n",
      " [3 4]]\n"
     ]
    }
   ],
   "source": [
    "from scipy.io import savemat, loadmat\n",
    "\n",
    "# Sauvegarder un tableau au format MATLAB\n",
    "savemat('data/matrice.mat', {'data/matrice': matrice})\n",
    "print(\"Matrice sauvegardée dans 'matrice.mat'.\")\n",
    "\n",
    "# Charger un tableau depuis un fichier MATLAB\n",
    "donnees_matlab = loadmat('data/matrice.mat')\n",
    "print(\"Données du fichier MATLAB :\\n\", donnees_matlab['data/matrice'])\n"
   ]
  },
  {
   "cell_type": "markdown",
   "id": "d8fc032b-7592-43bf-9bf0-e021583c63c8",
   "metadata": {
    "jp-MarkdownHeadingCollapsed": true,
    "tags": []
   },
   "source": []
  }
 ],
 "metadata": {
  "kernelspec": {
   "display_name": "Python 3 (ipykernel)",
   "language": "python",
   "name": "python3"
  },
  "language_info": {
   "codemirror_mode": {
    "name": "ipython",
    "version": 3
   },
   "file_extension": ".py",
   "mimetype": "text/x-python",
   "name": "python",
   "nbconvert_exporter": "python",
   "pygments_lexer": "ipython3",
   "version": "3.12.4"
  }
 },
 "nbformat": 4,
 "nbformat_minor": 5
}
