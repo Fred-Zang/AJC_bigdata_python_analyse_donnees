{
 "cells": [
  {
   "cell_type": "markdown",
   "id": "d92ea106-aa28-4d83-baea-2d933c652acf",
   "metadata": {},
   "source": [
    "# 1. Les nombres avec Python\n",
    "### Niveau Débutant : Types de nombres et opérations de base\n",
    "Nous allons commencer par une introduction aux différents types de nombres en Python : les entiers, les flottants et les complexes."
   ]
  },
  {
   "cell_type": "code",
   "execution_count": 1,
   "id": "a6a887aa-e2a2-4c4c-af2c-b62c1c179064",
   "metadata": {},
   "outputs": [
    {
     "name": "stdout",
     "output_type": "stream",
     "text": [
      "Nombre entier : 42\n"
     ]
    }
   ],
   "source": [
    "# Les entiers (int)\n",
    "nombre_entier = 42\n",
    "print(\"Nombre entier :\", nombre_entier)"
   ]
  },
  {
   "cell_type": "code",
   "execution_count": 3,
   "id": "4b98b33a-515e-4465-8f36-eb4db21ffb0d",
   "metadata": {},
   "outputs": [
    {
     "name": "stdout",
     "output_type": "stream",
     "text": [
      "Nombre flottant : 3.14\n"
     ]
    }
   ],
   "source": [
    "# Les nombres à virgule flottante (float)\n",
    "nombre_flottant = 3.14\n",
    "print(\"Nombre flottant :\", nombre_flottant)"
   ]
  },
  {
   "cell_type": "code",
   "execution_count": 5,
   "id": "7870f503-dec2-4716-a435-70c72698b81b",
   "metadata": {},
   "outputs": [
    {
     "name": "stdout",
     "output_type": "stream",
     "text": [
      "Nombre complexe : (2+3j)\n"
     ]
    }
   ],
   "source": [
    "# Les nombres complexes\n",
    "nombre_complexe = 2 + 3j\n",
    "print(\"Nombre complexe :\", nombre_complexe)"
   ]
  },
  {
   "cell_type": "code",
   "execution_count": 13,
   "id": "97425f2d-92db-41e3-9e06-2c015dc72589",
   "metadata": {},
   "outputs": [
    {
     "name": "stdout",
     "output_type": "stream",
     "text": [
      "Addition 42 + 3.14 = 45.14\n"
     ]
    }
   ],
   "source": [
    "# Addition de nombres\n",
    "resultat_addition = nombre_entier + nombre_flottant\n",
    "print(f\"Addition {nombre_entier} + {nombre_flottant} =\", resultat_addition)"
   ]
  },
  {
   "cell_type": "code",
   "execution_count": 11,
   "id": "1b16949d-80e7-4877-9ceb-87b371812dde",
   "metadata": {},
   "outputs": [],
   "source": [
    "resultat_addition = nombre_entier + nombre_flottant"
   ]
  },
  {
   "cell_type": "code",
   "execution_count": 15,
   "id": "972b6518-ccff-4afa-bf73-7d591431c86e",
   "metadata": {},
   "outputs": [
    {
     "name": "stdout",
     "output_type": "stream",
     "text": [
      "Multiplication 42 * 2 =  84\n"
     ]
    }
   ],
   "source": [
    "# Multiplication de nombres\n",
    "resultat_multiplication = nombre_entier * 2\n",
    "print(f\"Multiplication {nombre_entier} * 2 = \", resultat_multiplication)"
   ]
  },
  {
   "cell_type": "markdown",
   "id": "d5a29821-5b40-444b-823b-6282d4b0bbce",
   "metadata": {},
   "source": [
    "### Niveau Intermédiaire : Opérations avancées avec les nombres\n",
    "À ce niveau, nous allons explorer les fonctions mathématiques avancées avec le module math en Python."
   ]
  },
  {
   "cell_type": "code",
   "execution_count": 17,
   "id": "3e2df659-a5dc-4572-b99c-6cb111b0e951",
   "metadata": {},
   "outputs": [],
   "source": [
    "import math  # Importation du module math pour les fonctions mathématiques"
   ]
  },
  {
   "cell_type": "code",
   "execution_count": 19,
   "id": "26d4c37f-efaa-4a1e-ac35-e14ca895a4bc",
   "metadata": {},
   "outputs": [
    {
     "name": "stdout",
     "output_type": "stream",
     "text": [
      "Racine carrée de 16 : 4.0\n"
     ]
    }
   ],
   "source": [
    "# Racine carrée\n",
    "racine_carre = math.sqrt(16)\n",
    "print(\"Racine carrée de 16 :\", racine_carre)"
   ]
  },
  {
   "cell_type": "code",
   "execution_count": 21,
   "id": "56a99f78-4f7c-49cd-8c6b-298d4d6b39df",
   "metadata": {},
   "outputs": [
    {
     "name": "stdout",
     "output_type": "stream",
     "text": [
      "2 puissance 3 : 8.0\n"
     ]
    }
   ],
   "source": [
    "# Puissance\n",
    "puissance = math.pow(2, 3)  # Équivaut à 2^3\n",
    "print(\"2 puissance 3 :\", puissance)"
   ]
  },
  {
   "cell_type": "code",
   "execution_count": 23,
   "id": "acbd1b23-0716-4440-95d9-76e793fb16f4",
   "metadata": {},
   "outputs": [
    {
     "name": "stdout",
     "output_type": "stream",
     "text": [
      "Logarithme naturel de 10 : 2.302585092994046\n"
     ]
    }
   ],
   "source": [
    "# Logarithme naturel\n",
    "logarithme = math.log(10)\n",
    "print(\"Logarithme naturel de 10 :\", logarithme)"
   ]
  },
  {
   "cell_type": "code",
   "execution_count": 25,
   "id": "df46e2b6-ba11-4f04-ba1a-f26a38d333ac",
   "metadata": {},
   "outputs": [
    {
     "name": "stdout",
     "output_type": "stream",
     "text": [
      "Valeur absolue de -15 : 15\n"
     ]
    }
   ],
   "source": [
    "# Valeur absolue\n",
    "valeur_absolue = abs(-15)\n",
    "print(\"Valeur absolue de -15 :\", valeur_absolue)"
   ]
  },
  {
   "cell_type": "markdown",
   "id": "52690b2b-44cc-4c0a-bfae-2e2a11d167c3",
   "metadata": {},
   "source": [
    "### Niveau ++ : Manipulation des nombres avec des fonctions personnalisées\n",
    "À ce niveau, vous pouvez à écrire des fonctions pour des calculs numériques plus complexes."
   ]
  },
  {
   "cell_type": "code",
   "execution_count": 27,
   "id": "d72984a6-1f6c-4cc7-9e8d-fe26f3032baf",
   "metadata": {},
   "outputs": [
    {
     "name": "stdout",
     "output_type": "stream",
     "text": [
      "Somme des carrés des nombres [2, 3, 4] : 29\n"
     ]
    }
   ],
   "source": [
    "# Fonction pour calculer la somme des carrés des nombres dans une liste\n",
    "def somme_des_carres(liste):\n",
    "    # On élève chaque élément de la liste au carré et on en fait la somme\n",
    "    return sum([x**2 for x in liste])\n",
    "\n",
    "# Exemple d'utilisation\n",
    "nombres = [2, 3, 4]\n",
    "resultat = somme_des_carres(nombres)\n",
    "print(\"Somme des carrés des nombres [2, 3, 4] :\", resultat)"
   ]
  },
  {
   "cell_type": "code",
   "execution_count": 29,
   "id": "6162bde9-e313-49f2-ac01-c3ec15e64bbe",
   "metadata": {},
   "outputs": [
    {
     "name": "stdout",
     "output_type": "stream",
     "text": [
      "Distance euclidienne entre A et B : 5.0\n"
     ]
    }
   ],
   "source": [
    "# Fonction pour calculer la distance euclidienne entre deux points (2D)\n",
    "def distance_euclidienne(point1, point2):\n",
    "    # Calcul de la distance selon la formule de Pythagore\n",
    "    return math.sqrt((point1[0] - point2[0])**2 + (point1[1] - point2[1])**2)\n",
    "\n",
    "# Exemple d'utilisation\n",
    "point_A = (1, 2)\n",
    "point_B = (4, 6)\n",
    "distance = distance_euclidienne(point_A, point_B)\n",
    "print(\"Distance euclidienne entre A et B :\", distance)"
   ]
  },
  {
   "cell_type": "markdown",
   "id": "e2610d16-0a4f-45d3-ad47-2413a57d8a82",
   "metadata": {},
   "source": [
    "# 2. Les nombres avec NumPy\n",
    "### Niveau Débutant : Utilisation de NumPy pour les nombres scalaires\n",
    "NumPy n'est pas seulement destiné aux tableaux, il peut également être utilisé pour des opérations numériques sur des nombres scalaires avec une précision et des performances améliorées."
   ]
  },
  {
   "cell_type": "code",
   "execution_count": 31,
   "id": "78d06c68-d5b6-46d7-ab5b-448fbab13359",
   "metadata": {},
   "outputs": [],
   "source": [
    "import numpy as np  # Importation de la bibliothèque NumPy"
   ]
  },
  {
   "cell_type": "code",
   "execution_count": 33,
   "id": "0c4040ec-2fa6-4e68-9b89-37afbed7adac",
   "metadata": {},
   "outputs": [
    {
     "name": "stdout",
     "output_type": "stream",
     "text": [
      "Nombre entier avec NumPy : 10\n",
      "Nombre flottant avec NumPy : 3.1415926535\n",
      "Somme : 13.1415926535\n",
      "Produit : 31.415926535\n"
     ]
    }
   ],
   "source": [
    "# Création de nombres scalaires avec NumPy\n",
    "nombre_entier = np.int32(10)  # Nombre entier de 32 bits\n",
    "print(\"Nombre entier avec NumPy :\", nombre_entier)\n",
    "\n",
    "nombre_flottant = np.float64(3.1415926535)  # Nombre flottant en double précision\n",
    "print(\"Nombre flottant avec NumPy :\", nombre_flottant)\n",
    "\n",
    "# Opérations arithmétiques\n",
    "somme = nombre_entier + nombre_flottant\n",
    "print(\"Somme :\", somme)\n",
    "\n",
    "produit = nombre_entier * nombre_flottant\n",
    "print(\"Produit :\", produit)"
   ]
  },
  {
   "cell_type": "markdown",
   "id": "daff2a8e-6ca2-43d1-9ed7-319aab46e725",
   "metadata": {},
   "source": [
    "### Niveau Intermédiaire : Fonctions mathématiques avec NumPy\n",
    "NumPy fournit des fonctions mathématiques avancées qui peuvent être appliquées directement sur des nombres scalaires."
   ]
  },
  {
   "cell_type": "code",
   "execution_count": 35,
   "id": "ec3f4445-a2e3-42e0-ac42-747af82306c2",
   "metadata": {},
   "outputs": [
    {
     "name": "stdout",
     "output_type": "stream",
     "text": [
      "Racine carrée de 10 : 3.1622776601683795\n",
      "Exponentielle de 10 : 22026.465794806718\n",
      "Logarithme naturel de 10 : 2.302585092994046\n",
      "Sinus de 45 degrés : 0.7071067811865476\n",
      "Cosinus de 45 degrés : 0.7071067811865476\n"
     ]
    }
   ],
   "source": [
    "# Calcul de la racine carrée\n",
    "racine_carre = np.sqrt(nombre_entier)\n",
    "print(\"Racine carrée de\", nombre_entier, \":\", racine_carre)\n",
    "\n",
    "# Exponentielle et logarithme\n",
    "exponentielle = np.exp(nombre_entier)\n",
    "print(\"Exponentielle de\", nombre_entier, \":\", exponentielle)\n",
    "\n",
    "logarithme = np.log(nombre_entier)\n",
    "print(\"Logarithme naturel de\", nombre_entier, \":\", logarithme)\n",
    "\n",
    "# Fonctions trigonométriques\n",
    "angle = np.float64(np.pi / 4)  # Angle de 45 degrés en radians\n",
    "sinus = np.sin(angle)\n",
    "print(\"Sinus de 45 degrés :\", sinus)\n",
    "\n",
    "cosinus = np.cos(angle)\n",
    "print(\"Cosinus de 45 degrés :\", cosinus)\n"
   ]
  },
  {
   "cell_type": "markdown",
   "id": "cfc7ac62-4b1d-48bd-8c12-b5b0b88028fe",
   "metadata": {},
   "source": [
    "### Niveau ++ : Précision numérique et types de données avancés\n",
    "NumPy permet de spécifier précisément le type de données pour contrôler la précision et la performance."
   ]
  },
  {
   "cell_type": "code",
   "execution_count": 37,
   "id": "16176793-99ba-40a4-9727-a0c5ce719c09",
   "metadata": {},
   "outputs": [
    {
     "name": "stdout",
     "output_type": "stream",
     "text": [
      "Nombre flottant en simple précision : 3.1415927\n",
      "Différence entre double et simple précision : -8.751257318806438e-08\n",
      "Nombre complexe avec NumPy : (1+2j)\n",
      "Module du nombre complexe : 2.23606797749979\n",
      "Argument du nombre complexe : 1.1071487177940904\n"
     ]
    }
   ],
   "source": [
    "# Nombres flottants en simple précision\n",
    "nombre_flottant_simple = np.float32(3.1415926535)\n",
    "print(\"Nombre flottant en simple précision :\", nombre_flottant_simple)  # Affiche 3.1415927\n",
    "\n",
    "# Différence entre simple et double précision\n",
    "difference = nombre_flottant - nombre_flottant_simple\n",
    "print(\"Différence entre double et simple précision :\", difference)  # Affiche -4.358898943540674e-09\n",
    "\n",
    "# Utilisation de nombres complexes\n",
    "nombre_complexe = np.complex128(1 + 2j)\n",
    "print(\"Nombre complexe avec NumPy :\", nombre_complexe)  # Affiche (1+2j)\n",
    "\n",
    "# Opérations sur les nombres complexes\n",
    "module = np.abs(nombre_complexe)\n",
    "print(\"Module du nombre complexe :\", module)  # Affiche 2.23606797749979\n",
    "\n",
    "argument = np.angle(nombre_complexe)\n",
    "print(\"Argument du nombre complexe :\", argument)  # Affiche 1.1071487177940904\n"
   ]
  },
  {
   "cell_type": "markdown",
   "id": "09dc7989-aa48-47f2-b0e8-8f2a646fd3a1",
   "metadata": {},
   "source": [
    "# 3. Les problèmes d'arrondi\n",
    "### Niveau Débutant : Comprendre les imprécisions des flottants\n",
    "Les nombres flottants peuvent conduire à des imprécisions à cause de leur représentation en mémoire."
   ]
  },
  {
   "cell_type": "code",
   "execution_count": 39,
   "id": "09f20b86-9c5a-4097-8a0f-a87eebf45b0b",
   "metadata": {},
   "outputs": [
    {
     "name": "stdout",
     "output_type": "stream",
     "text": [
      "Résultat de 0.1 + 0.2 avec float : 0.30000000000000004\n",
      "Résultat de 0.1 + 0.2 avec NumPy : 0.30000000000000004\n"
     ]
    }
   ],
   "source": [
    "# Exemple d'imprécision avec les flottants standards\n",
    "resultat = 0.1 + 0.2\n",
    "print(\"Résultat de 0.1 + 0.2 avec float :\", resultat)  # Affiche 0.30000000000000004\n",
    "\n",
    "# Utilisation de NumPy pour une meilleure précision\n",
    "resultat_numpy = np.float64(0.1) + np.float64(0.2)\n",
    "print(\"Résultat de 0.1 + 0.2 avec NumPy :\", resultat_numpy)  # Affiche le même résultat\n"
   ]
  },
  {
   "cell_type": "markdown",
   "id": "6f74cbc8-8064-4bc7-ba2a-8e9bc9a55f07",
   "metadata": {},
   "source": [
    "# Niveau Intermédiaire : Contrôle de la précision avec NumPy\n",
    "NumPy permet de spécifier le type de flottant pour contrôler la précision."
   ]
  },
  {
   "cell_type": "code",
   "execution_count": 41,
   "id": "774eb4f4-6acd-4a19-b121-cfd86ee3f1d4",
   "metadata": {},
   "outputs": [
    {
     "name": "stdout",
     "output_type": "stream",
     "text": [
      "Résultat avec float32 : 0.3\n",
      "Résultat avec float64 : 0.30000000000000004\n",
      "Différence entre float64 et float32 : -1.1920928910669204e-08\n"
     ]
    }
   ],
   "source": [
    "# Nombres flottants en simple précision (32 bits)\n",
    "a_simple = np.float32(0.1)\n",
    "b_simple = np.float32(0.2)\n",
    "resultat_simple = a_simple + b_simple\n",
    "print(\"Résultat avec float32 :\", resultat_simple)  # Affiche 0.30000001\n",
    "\n",
    "# Nombres flottants en double précision (64 bits)\n",
    "a_double = np.float64(0.1)\n",
    "b_double = np.float64(0.2)\n",
    "resultat_double = a_double + b_double\n",
    "print(\"Résultat avec float64 :\", resultat_double)  # Affiche 0.30000000000000004\n",
    "\n",
    "# Comparaison des résultats\n",
    "difference = resultat_double - resultat_simple\n",
    "print(\"Différence entre float64 et float32 :\", difference)  # Affiche -7.450580596923828e-09\n"
   ]
  },
  {
   "cell_type": "markdown",
   "id": "3caeeb5c-2596-4470-834c-0e87b7dd34d1",
   "metadata": {},
   "source": [
    "# Niveau ++ : Utilisation du module decimal pour une précision arbitraire\n",
    "Pour des calculs nécessitant une précision très élevée, on peut utiliser le module decimal en conjonction avec NumPy."
   ]
  },
  {
   "cell_type": "code",
   "execution_count": 43,
   "id": "b13154ee-be42-4404-a57b-ddca470187da",
   "metadata": {},
   "outputs": [
    {
     "name": "stdout",
     "output_type": "stream",
     "text": [
      "Résultat avec Decimal : 0.3333333333333333333333333333\n",
      "Conversion du résultat Decimal en NumPy float64 : 0.3333333333333333\n"
     ]
    }
   ],
   "source": [
    "from decimal import Decimal, getcontext\n",
    "\n",
    "# Configuration de la précision à 28 chiffres significatifs\n",
    "getcontext().prec = 28\n",
    "\n",
    "# Création de nombres Decimal\n",
    "a_decimal = Decimal('0.1111111111111111111111111111111')\n",
    "b_decimal = Decimal('0.2222222222222222222222222222222')\n",
    "resultat_decimal = a_decimal + b_decimal\n",
    "print(\"Résultat avec Decimal :\", resultat_decimal)  # Affiche 0.3 exactement\n",
    "\n",
    "# Conversion en type NumPy\n",
    "resultat_numpy_decimal = np.float64(resultat_decimal)\n",
    "print(\"Conversion du résultat Decimal en NumPy float64 :\", resultat_numpy_decimal)  # Affiche 0.3\n"
   ]
  },
  {
   "cell_type": "markdown",
   "id": "79c6e9ae-6687-4569-acee-4e998c668da1",
   "metadata": {},
   "source": [
    "# 4. Les différents types de données avec NumPy\n",
    "Types de base avec NumPy\n",
    "NumPy propose plusieurs types numériques pour les entiers et les flottants."
   ]
  },
  {
   "cell_type": "code",
   "execution_count": 45,
   "id": "04f78583-d582-4de8-86cb-19e77237b8e1",
   "metadata": {},
   "outputs": [
    {
     "name": "stdout",
     "output_type": "stream",
     "text": [
      "Entier 8 bits : 127\n",
      "Entier 16 bits : 32000\n",
      "Flottant 32 bits : 3.14\n",
      "Flottant 64 bits : 3.14\n"
     ]
    }
   ],
   "source": [
    "# Types entiers\n",
    "entier_8bits = np.int8(127)\n",
    "print(\"Entier 8 bits :\", entier_8bits)  # Affiche 127\n",
    "\n",
    "entier_16bits = np.int16(32000)\n",
    "print(\"Entier 16 bits :\", entier_16bits)  # Affiche 32000\n",
    "\n",
    "# Types flottants\n",
    "flottant_32bits = np.float32(3.14)\n",
    "print(\"Flottant 32 bits :\", flottant_32bits)  # Affiche 3.14\n",
    "\n",
    "flottant_64bits = np.float64(3.14)\n",
    "print(\"Flottant 64 bits :\", flottant_64bits)  # Affiche 3.14\n"
   ]
  },
  {
   "cell_type": "markdown",
   "id": "1b125516-e78f-4d54-a6c9-b44fae920119",
   "metadata": {},
   "source": [
    "### Comment connaitre le type d'une variable existante ?"
   ]
  },
  {
   "cell_type": "code",
   "execution_count": 47,
   "id": "67307004-c6c9-462e-b623-97106049210a",
   "metadata": {},
   "outputs": [
    {
     "data": {
      "text/plain": [
       "numpy.int16"
      ]
     },
     "execution_count": 47,
     "metadata": {},
     "output_type": "execute_result"
    }
   ],
   "source": [
    "type(entier_16bits)"
   ]
  },
  {
   "cell_type": "markdown",
   "id": "7481f2f5-7154-459c-b7d4-8733eef292b0",
   "metadata": {},
   "source": [
    "# tableau des différents types Numpy\n",
    "\n",
    "## 1. Types entiers (integer) :\n",
    "NumPy propose des entiers signés et non signés avec des tailles spécifiques, de 8 à 64 bits. Les entiers signés peuvent représenter des valeurs positives et négatives, tandis que les entiers non signés (unsigned) ne représentent que des valeurs positives.\n",
    "\n",
    "Entiers signés :\n",
    "\n",
    "- np.int8 : entier signé sur 8 bits (valeurs de -128 à 127)\n",
    "- np.int16 : entier signé sur 16 bits (valeurs de -32 768 à 32 767)\n",
    "- np.int32 : entier signé sur 32 bits (valeurs de -2 147 483 648 à 2 147 483 647)\n",
    "- np.int64 : entier signé sur 64 bits (valeurs de -9.22 x 10¹⁸ à 9.22 x 10¹⁸)   \n",
    "\n",
    "Entiers non signés :\n",
    "\n",
    "- np.uint8 : entier non signé sur 8 bits (valeurs de 0 à 255)\n",
    "- np.uint16 : entier non signé sur 16 bits (valeurs de 0 à 65 535)\n",
    "- np.uint32 : entier non signé sur 32 bits (valeurs de 0 à 4 294 967 295)\n",
    "- np.uint64 : entier non signé sur 64 bits (valeurs de 0 à 18.44 x 10¹⁸)   \n",
    "\n",
    "## 2. Types flottants (floating-point) :\n",
    "NumPy offre différents types de nombres flottants pour une précision simple ou double. Ces types utilisent le standard IEEE 754.\n",
    "\n",
    "Nombres à virgule flottante :\n",
    "\n",
    "- np.float16 : flottant sur 16 bits (précision faible, souvent utilisé pour réduire la consommation mémoire)\n",
    "- np.float32 : flottant sur 32 bits (simple précision)\n",
    "- np.float64 : flottant sur 64 bits (double précision, équivalent à float en Python)   \n",
    "\n",
    "## 3. Types complexes (complex) :\n",
    "Pour les calculs en nombres complexes, NumPy propose des types spécifiques, où la partie réelle et imaginaire sont des nombres flottants.\n",
    "\n",
    "Nombres complexes :\n",
    "\n",
    "- np.complex64 : nombre complexe sur 64 bits (32 bits pour la partie réelle, 32 bits pour la partie imaginaire)\n",
    "- np.complex128 : nombre complexe sur 128 bits (64 bits pour la partie réelle, 64 bits pour la partie imaginaire)\n",
    "\n",
    "## 4. Types booléens (boolean) :\n",
    "NumPy propose également un type booléen pour stocker les valeurs True ou False.\n",
    "\n",
    "Booléen :\n",
    "np.bool_ : type booléen, ne stocke que les valeurs True ou False\n",
    "\n",
    "## 5. Types de caractères et chaînes de caractères (string) :\n",
    "Bien que NumPy soit principalement utilisé pour les calculs numériques, il est possible de travailler avec des chaînes de caractères.\n",
    "\n",
    "Chaînes de caractères (fixes ou Unicode) :\n",
    "\n",
    "- np.str_ : chaîne de caractères Unicode\n",
    "- np.string_ : chaîne de caractères fixes (byte strings), dont la longueur est définie par l’utilisateur"
   ]
  },
  {
   "cell_type": "code",
   "execution_count": null,
   "id": "5a63f8de-de35-4d5f-8559-5aa3b8713406",
   "metadata": {},
   "outputs": [],
   "source": []
  }
 ],
 "metadata": {
  "kernelspec": {
   "display_name": "Python 3 (ipykernel)",
   "language": "python",
   "name": "python3"
  },
  "language_info": {
   "codemirror_mode": {
    "name": "ipython",
    "version": 3
   },
   "file_extension": ".py",
   "mimetype": "text/x-python",
   "name": "python",
   "nbconvert_exporter": "python",
   "pygments_lexer": "ipython3",
   "version": "3.12.4"
  }
 },
 "nbformat": 4,
 "nbformat_minor": 5
}
